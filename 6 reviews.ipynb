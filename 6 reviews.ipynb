{
 "cells": [
  {
   "cell_type": "code",
   "execution_count": null,
   "id": "e16acb74",
   "metadata": {},
   "outputs": [],
   "source": [
    "from bs4 import BeautifulSoup\n",
    "import re\n",
    "import pandas as pd\n",
    "import requests\n",
    "\n",
    "def get_reviews(appid, params={'json':1}): \n",
    "        url = 'https://store.steampowered.com/appreviews/' \n",
    "        response = requests.get(url=url+appid, params=params, headers={'User-Agent': 'Mozilla/5.0'}) \n",
    "        return response.json()\n",
    "\n",
    "def get_n_reviews(appid, n=200): \n",
    "    reviews = []\n",
    "    cursor = '*' \n",
    "    params = { \n",
    "            'json' : 1, \n",
    "            'filter' : 'all', \n",
    "            'language' : 'english', \n",
    "            'day_range' : 9223372036854775807, \n",
    "            'review_type' : 'all', \n",
    "            'purchase_type' : 'all' \n",
    "            } \n",
    "\n",
    "    while n > 0: \n",
    "        params['cursor'] = cursor.encode() \n",
    "        params['num_per_page'] = min(100, n) \n",
    "        n -= 100 \n",
    "\n",
    "        response = get_reviews(appid, params) \n",
    "        cursor = response['cursor']\n",
    "        reviews += response['reviews'] \n",
    "\n",
    "        if len(response['reviews']) < 100: break \n",
    "\n",
    "    return reviews\n",
    "\n",
    "def get_n_appids(n=200, filter_by='topsellers'): \n",
    "    appids = [] \n",
    "    url = f'https://store.steampowered.com/search/?category1=998&filter={filter_by}&page=' \n",
    "    page = 0 \n",
    "\n",
    "    while page *25 < n: \n",
    "        page += 1 \n",
    "        response = requests.get(url=url+str(page), headers={'User-Agent': 'Mozilla/5.0'}) \n",
    "        soup = BeautifulSoup(response.text, 'lxml') \n",
    "        for row in soup.find_all(class_='search_result_row'): \n",
    "            appids.append(row['data-ds-appid']) \n",
    "\n",
    "    return appids[:n]\n",
    "\n",
    "\n",
    "if __name__ == \"__main__\":\n",
    "    reviews = [] \n",
    "    appids = get_n_appids(750) \n",
    "    for appid in appids: \n",
    "        reviews += get_n_reviews(appid, 100) \n",
    "    df = pd.DataFrame(reviews)[['review', 'voted_up']] \n",
    "    df.to_excel('aid.xlsx')\n",
    "    \n",
    "\n",
    "df\n",
    "\n"
   ]
  },
  {
   "cell_type": "code",
   "execution_count": null,
   "id": "9312c6ae",
   "metadata": {},
   "outputs": [],
   "source": [
    "df"
   ]
  }
 ],
 "metadata": {
  "kernelspec": {
   "display_name": "Python 3 (ipykernel)",
   "language": "python",
   "name": "python3"
  },
  "language_info": {
   "codemirror_mode": {
    "name": "ipython",
    "version": 3
   },
   "file_extension": ".py",
   "mimetype": "text/x-python",
   "name": "python",
   "nbconvert_exporter": "python",
   "pygments_lexer": "ipython3",
   "version": "3.9.12"
  }
 },
 "nbformat": 4,
 "nbformat_minor": 5
}
