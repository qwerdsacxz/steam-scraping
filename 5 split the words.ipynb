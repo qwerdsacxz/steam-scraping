{
 "cells": [
  {
   "cell_type": "code",
   "execution_count": 24,
   "id": "1d3721fb",
   "metadata": {
    "scrolled": true
   },
   "outputs": [],
   "source": [
    "import jieba\n",
    "import csv\n",
    "txt = open(\"top100.csv\", 'rt', encoding='utf-8').read()  # 读取\n",
    "Excel = open(\"baoGao4.csv\", 'w', newline='')  # 创建表格文件\n",
    "writ = csv.writer(Excel)  \n",
    "writ.writerow(['名称', '出现次数']) \n",
    "words = jieba.lcut(txt)  # 对文本进行分词\n",
    "\n",
    "# stopwords为停用词list\n",
    "stopwords = [line.strip() for line in open('stopwords.txt', 'r', encoding='utf-8').readlines()]\n",
    "outstr = '' # 待返回字符串\n",
    "\n",
    "for word in words:\n",
    "    if word not in stopwords:\n",
    "        outstr += word + \" \"\n",
    "        \n",
    "counts = {}  # 创建一个字典\n",
    "for word in words:\n",
    "    if len(word) <= 1:\n",
    "        continue\n",
    "    else:\n",
    "        counts[word] = counts.get(word, 0) + 1  # 在字典中查询若该字返回次数加一\n",
    "item = list(counts.items())  # 将字典转化为列表格式\n",
    "item.sort(key=lambda x: x[1], reverse=True)  # 对列表按照第二列进行排序\n",
    "for i in range(200):\n",
    "    writ.writerow(item[i])  \n",
    "\n"
   ]
  }
 ],
 "metadata": {
  "kernelspec": {
   "display_name": "Python 3 (ipykernel)",
   "language": "python",
   "name": "python3"
  },
  "language_info": {
   "codemirror_mode": {
    "name": "ipython",
    "version": 3
   },
   "file_extension": ".py",
   "mimetype": "text/x-python",
   "name": "python",
   "nbconvert_exporter": "python",
   "pygments_lexer": "ipython3",
   "version": "3.9.12"
  }
 },
 "nbformat": 4,
 "nbformat_minor": 5
}
